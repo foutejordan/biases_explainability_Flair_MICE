{
 "cells": [
  {
   "cell_type": "code",
   "execution_count": 1,
   "metadata": {
    "ExecuteTime": {
     "end_time": "2023-11-18T23:51:20.079550207Z",
     "start_time": "2023-11-18T23:51:16.465758414Z"
    }
   },
   "outputs": [],
   "source": [
    "import pandas as pd\n",
    "import sys\n",
    "sys.path.append(\"..\")\n",
    "from src.utils import html_highlight_diffs\n",
    "from IPython.core.display import display, HTML\n",
    "import numpy as np"
   ]
  },
  {
   "cell_type": "code",
   "execution_count": 2,
   "metadata": {
    "ExecuteTime": {
     "end_time": "2023-11-18T23:51:23.137416519Z",
     "start_time": "2023-11-18T23:51:23.133826612Z"
    }
   },
   "outputs": [],
   "source": [
    "from src.utils import load_predictor, get_ints_to_labels"
   ]
  },
  {
   "cell_type": "code",
   "execution_count": 3,
   "metadata": {
    "ExecuteTime": {
     "end_time": "2023-11-18T23:51:23.581628370Z",
     "start_time": "2023-11-18T23:51:23.577705885Z"
    }
   },
   "outputs": [],
   "source": [
    "TASK = \"imdb\"\n",
    "STAGE2EXP = \"mice_binary\"\n",
    "EDIT_PATH = f\"../results/imdb/edits/mice_binary/edits.csv\""
   ]
  },
  {
   "cell_type": "code",
   "execution_count": 4,
   "metadata": {
    "ExecuteTime": {
     "end_time": "2023-11-18T23:51:25.307740085Z",
     "start_time": "2023-11-18T23:51:25.303183322Z"
    }
   },
   "outputs": [],
   "source": [
    "def read_edits(path):\n",
    "    edits = pd.read_csv(EDIT_PATH, sep=\"\\t\", lineterminator=\"\\n\", error_bad_lines=False, warn_bad_lines=True)\n",
    "\n",
    "    if edits['new_pred'].dtype == pd.np.dtype('float64'):\n",
    "        edits['new_pred'] = edits.apply(lambda row: str(int(row['new_pred']) if not np.isnan(row['new_pred']) else \"\"), axis=1)\n",
    "        edits['orig_pred'] = edits.apply(lambda row: str(int(row['orig_pred']) if not np.isnan(row['orig_pred']) else \"\"), axis=1)\n",
    "        edits['contrast_pred'] = edits.apply(lambda row: str(int(row['contrast_pred']) if not np.isnan(row['contrast_pred']) else \"\"), axis=1)\n",
    "    else:\n",
    "        edits['new_pred'].fillna(value=\"\", inplace=True)\n",
    "        edits['orig_pred'].fillna(value=\"\", inplace=True)\n",
    "        edits['contrast_pred'].fillna(value=\"\", inplace=True)\n",
    "    return edits"
   ]
  },
  {
   "cell_type": "code",
   "execution_count": 5,
   "metadata": {
    "ExecuteTime": {
     "end_time": "2023-11-18T23:51:25.818929022Z",
     "start_time": "2023-11-18T23:51:25.814776423Z"
    }
   },
   "outputs": [],
   "source": [
    "def get_best_edits(edits):\n",
    "    \"\"\" MiCE writes all edits that are found in Stage 2, \n",
    "    but we only want to evaluate the smallest per input. \n",
    "    Calling get_sorted_e() \"\"\"\n",
    "    return edits[edits['sorted_idx'] == 0]\n",
    "    \n",
    "def evaluate_edits(edits):\n",
    "    temp = edits[edits['sorted_idx'] == 0]\n",
    "    minim = temp['minimality'].mean()\n",
    "    flipped = temp[temp['new_pred'].astype(str)==temp['contrast_pred'].astype(str)]\n",
    "    nunique = temp['data_idx'].nunique()\n",
    "    flip_rate = len(flipped)/nunique\n",
    "    duration=temp['duration'].mean()\n",
    "    metrics = {\n",
    "        \"num_total\": nunique,\n",
    "        \"num_flipped\": len(flipped),\n",
    "        \"flip_rate\": flip_rate,\n",
    "        \"minimality\": minim,\n",
    "        \"duration\": duration,\n",
    "    }\n",
    "    for k, v in metrics.items():\n",
    "        print(f\"{k}: \\t{round(v, 3)}\")\n",
    "    return metrics"
   ]
  },
  {
   "cell_type": "code",
   "execution_count": 6,
   "metadata": {
    "ExecuteTime": {
     "end_time": "2023-11-18T23:51:26.794566513Z",
     "start_time": "2023-11-18T23:51:26.788641378Z"
    }
   },
   "outputs": [],
   "source": [
    "def display_edits(row):\n",
    "    html_original, html_edited = html_highlight_diffs(row['orig_editable_seg'], row['edited_editable_seg'])\n",
    "    minim = round(row['minimality'], 3)\n",
    "    print(f\"MINIMALITY: \\t{minim}\")\n",
    "    print(\"\")\n",
    "    display(HTML(html_original))\n",
    "    display(HTML(html_edited))\n",
    "\n",
    "def display_classif_results(rows):\n",
    "    for _, row in rows.iterrows():\n",
    "        orig_contrast_prob_pred = round(row['orig_contrast_prob_pred'], 3)\n",
    "        new_contrast_prob_pred = round(row['new_contrast_prob_pred'], 3)\n",
    "        print(\"-----------------------\")\n",
    "        print(f\"ORIG LABEL: \\t{row['orig_pred']}\")\n",
    "        print(f\"CONTR LABEL: \\t{row['contrast_pred']} (Orig Pred Prob: {orig_contrast_prob_pred})\")\n",
    "        print(f\"NEW LABEL: \\t{row['new_pred']} (New Pred Prob: {new_contrast_prob_pred})\")\n",
    "        print(\"\")\n",
    "        display_edits(row)\n",
    "\n",
    "def display_race_results(rows):\n",
    "    for _, row in rows.iterrows():\n",
    "        orig_contrast_prob_pred = round(row['orig_contrast_prob_pred'], 3)\n",
    "        new_contrast_prob_pred = round(row['new_contrast_prob_pred'], 3)\n",
    "        orig_input = eval(row['orig_input'])\n",
    "        options = orig_input['options']\n",
    "        print(\"-----------------------\")\n",
    "        print(f\"QUESTION: {orig_input['question']}\")\n",
    "        print(\"\\nOPTIONS:\")\n",
    "        for opt_idx, opt in enumerate(options):\n",
    "            print(f\"  ({opt_idx}) {opt}\")\n",
    "        print(f\"\\nORIG LABEL: \\t{row['orig_pred']}\")\n",
    "        print(f\"CONTR LABEL: \\t{row['contrast_pred']} (Orig Pred Prob: {orig_contrast_prob_pred})\")\n",
    "        print(f\"NEW LABEL: \\t{row['new_pred']} (New Pred Prob: {new_contrast_prob_pred})\")\n",
    "        print(\"\")\n",
    "        display_edits(row)"
   ]
  },
  {
   "cell_type": "code",
   "execution_count": 9,
   "metadata": {
    "ExecuteTime": {
     "end_time": "2023-11-18T23:58:17.522904696Z",
     "start_time": "2023-11-18T23:58:17.479684666Z"
    }
   },
   "outputs": [
    {
     "name": "stdout",
     "output_type": "stream",
     "text": [
      "num_total: \t1\n",
      "num_flipped: \t1\n",
      "flip_rate: \t1.0\n",
      "minimality: \t0.229\n",
      "duration: \t21.506\n"
     ]
    },
    {
     "name": "stderr",
     "output_type": "stream",
     "text": [
      "/home/jordan/anaconda3/envs/mice/lib/python3.7/site-packages/ipykernel_launcher.py:4: FutureWarning: The pandas.np module is deprecated and will be removed from pandas in a future version. Import numpy directly instead\n",
      "  after removing the cwd from sys.path.\n"
     ]
    }
   ],
   "source": [
    "edits = read_edits(EDIT_PATH)\n",
    "edits = get_best_edits(edits)\n",
    "metrics = evaluate_edits(edits)"
   ]
  },
  {
   "cell_type": "code",
   "execution_count": 10,
   "metadata": {
    "ExecuteTime": {
     "end_time": "2023-11-18T23:58:18.610167949Z",
     "start_time": "2023-11-18T23:58:18.598356682Z"
    }
   },
   "outputs": [
    {
     "name": "stdout",
     "output_type": "stream",
     "text": [
      "-----------------------\n",
      "ORIG LABEL: \t1\n",
      "CONTR LABEL: \t0 (Orig Pred Prob: 0.001)\n",
      "NEW LABEL: \t0 (New Pred Prob: 0.999)\n",
      "\n",
      "MINIMALITY: \t0.229\n"
     ]
    },
    {
     "data": {
      "text/plain": "<IPython.core.display.HTML object>",
      "text/html": "One of the other reviewers has mentioned that after watching just <b>1</b> <b>Oz</b> <b>episode</b> you'll be <b>hooked</b>. They are right, as this is exactly what happened with me.<unk>br <b>/><unk</b>>br />The first thing that struck me about Oz <b>was</b> its <b>brutality</b> <b>and</b> <b>unflinching</b> scenes of violence, which set in right from the <b>word</b> <b>GO</b>. <b>Trust</b> <b>me</b><b>,</b> this is not a show for the <b>faint</b> hearted or <b>timid</b>. This show pulls no punches with regards to drugs, sex or violence. Its is <b>hardcore</b>, in the <b>classic</b> use of the word.<unk>br /><unk>br />It is called OZ as that is the nickname given to the Oswald Maximum Security State Penitentary. It focuses mainly on <b>Emerald</b> City, an <b>experimental</b> section of the prison where all the cells have glass fronts and face inwards, so <b>privacy</b> <b>is</b> not <b>high</b> <b>on</b> <b>the</b> <b>agenda</b>. Em City is home to many<b>..</b><b>Aryans</b><b>,</b> <b>Muslims</b>, gangstas, <b>Latinos</b>, Christians, Italians, <b>Irish</b> and more....so scuffles, death stares, dodgy dealings and shady agreements are never far away.<unk>br <b>/><unk</b>>br <b>/>I</b> would say the <b>main</b> <b>appeal</b> of the show is due to the fact that it <b>goes</b> <b>where</b> other shows <b>would</b><b>n't</b> <b>dare</b><b>.</b> <b>Forget</b> <b>pretty</b> <b>pictures</b> <b>painted</b> <b>for</b> <b>mainstream</b> <b>audiences</b><b>,</b> <b>forget</b> <b>charm</b><b>,</b> <b>forget</b> <b>romance</b><b>...</b>OZ doesn't <b>mess</b> <b>around</b>. The first episode I ever saw struck me as so <b>nasty</b> <b>it</b> <b>was</b> <b>surreal</b>, I couldn't say I was <b>ready</b> for it, but as I watched more, I <b>developed</b> <b>a</b> <b>taste</b> <b>for</b> <b>Oz</b>, and got <b>accustomed</b> to the high <b>levels</b> <b>of</b> <b>graphic</b> <b>violence</b>. Not just violence, but <b>injustice</b> (crooked guards who'll be sold out for a nickel, inmates who'll kill on order and get away with it, well mannered, middle class inmates being turned into prison bitches due to their lack of street skills or prison experience) Watching Oz, you may become comfortable with what is uncomfortable viewing....thats if you can get in touch with your darker side. "
     },
     "metadata": {},
     "output_type": "display_data"
    },
    {
     "data": {
      "text/plain": "<IPython.core.display.HTML object>",
      "text/html": "One of the other reviewers has mentioned that after watching just <b>OZ</b> you'll be <b>disappointed</b>. They are right, as this is exactly what happened with me.<unk>br <b>/<unk</b>> br />The first thing that struck me about Oz <b>is</b> its <b>insipid</b><b>,</b> <b>depressing</b> scenes of violence, which set in right from the <b>start</b>. <b>Yes</b> this is not a show for the <b>light</b> hearted or <b>discerning</b>. This show pulls no punches with regards to drugs, sex or violence. Its is <b>omnipresent</b>, in the <b>simplest</b> use of the word.<unk>br /><unk>br />It is called OZ as that is the nickname given to the <b>Oswald</b> Oswald Maximum Security State Penitentary. It focuses mainly on <b>Em</b> City, an <b>inmate</b> section of the prison where all the cells have glass fronts and face inwards, so <b>the</b> <b>show</b> <b>does</b> not <b>do</b> <b>much</b> <b>for</b> <b>its</b> <b>residents</b>. Em City is home to many <b>lukewarm</b> <b>Jews</b>, gangstas, <b>rapists</b>, Christians, Italians, <b>scumbags</b> and more....so scuffles, death stares, dodgy dealings and shady agreements are never far away.<unk>br <b>/</b> ><b><</b><b>unk</b><b>></b> br <b>/</b><b>></b> <b>I</b> would say the <b>popularity</b> of the show is due to the fact that it <b>takes</b> <b>risks</b> other shows <b>wouldn't</b><b>.....</b>OZ doesn't <b>take</b> <b>it</b> <b>anymore</b>. The first episode I ever saw struck me as so <b>intense</b>, I couldn't say I was <b>prepared</b> for it, but as I watched more, I <b>gained</b> <b>more</b>, and got <b>exposed</b> to the high <b>standards</b>. Not just violence, but <b>plenty</b> <b>more</b> <b>violence</b> (crooked guards who'll be sold out for a nickel, inmates who'll kill on order and get away with it, well mannered, middle class inmates being turned into prison bitches due to their lack of street skills or prison experience) Watching Oz, you may become comfortable with what is uncomfortable viewing....thats if you can get in touch with your darker side."
     },
     "metadata": {},
     "output_type": "display_data"
    }
   ],
   "source": [
    "random_rows = edits.sample(1)\n",
    "display_classif_results(random_rows)\n",
    "# display_race_results(random_rows)"
   ]
  },
  {
   "cell_type": "markdown",
   "source": [],
   "metadata": {
    "collapsed": false
   }
  },
  {
   "cell_type": "code",
   "execution_count": null,
   "outputs": [],
   "source": [],
   "metadata": {
    "collapsed": false
   }
  }
 ],
 "metadata": {
  "kernelspec": {
   "display_name": "Python 3",
   "language": "python",
   "name": "python3"
  },
  "language_info": {
   "codemirror_mode": {
    "name": "ipython",
    "version": 3
   },
   "file_extension": ".py",
   "mimetype": "text/x-python",
   "name": "python",
   "nbconvert_exporter": "python",
   "pygments_lexer": "ipython3",
   "version": "3.7.9"
  }
 },
 "nbformat": 4,
 "nbformat_minor": 2
}
